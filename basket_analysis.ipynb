{
 "cells": [
  {
   "cell_type": "code",
   "execution_count": null,
   "metadata": {},
   "outputs": [],
   "source": [
    "import pandas as pd\n",
    "from mlxtend.preprocessing import TransactionEncoder\n",
    "from mlxtend.frequent_patterns import apriori, association_rules"
   ]
  },
  {
   "cell_type": "code",
   "execution_count": null,
   "metadata": {},
   "outputs": [],
   "source": [
    "df = pd.read_csv('EXPORT_PAPELERIA.csv')\n",
    "df.columns = df.columns.str.strip().str.replace(\" \",\"_\").str.upper()"
   ]
  },
  {
   "cell_type": "code",
   "execution_count": null,
   "metadata": {},
   "outputs": [],
   "source": [
    "# Select the relevant columns for the basket analysis\n",
    "basket_data = df[['ORDER_ID', 'SUB-CATEGORY']]\n",
    "\n",
    "# Group the products by order ID\n",
    "grouped_basket = basket_data.groupby('ORDER_ID')['SUB-CATEGORY'].apply(list)\n",
    "\n",
    "# Convert the grouped data into transaction format\n",
    "transactions = grouped_basket.tolist()\n",
    "\n",
    "# Convert transaction data into a one-hot encoded format\n",
    "te = TransactionEncoder()\n",
    "te_ary = te.fit_transform(transactions)\n",
    "df_encoded = pd.DataFrame(te_ary, columns=te.columns_)\n",
    "\n",
    "# Apply Apriori algorithm to find frequent itemsets\n",
    "frequent_itemsets = apriori(df_encoded, min_support=0.02, use_colnames=True)\n",
    "\n",
    "# Generate association rules from frequent itemsets\n",
    "rules = association_rules(frequent_itemsets, metric='lift', min_threshold=0.001)\n",
    "\n",
    "# # Print frequent itemsets\n",
    "# print(\"Frequent Itemsets:\")\n",
    "# print(frequent_itemsets)\n",
    "\n",
    "# # Print association rules\n",
    "# print(\"\\nAssociation Rules:\")\n",
    "# print(rules)"
   ]
  },
  {
   "cell_type": "code",
   "execution_count": null,
   "metadata": {},
   "outputs": [],
   "source": [
    "import networkx as nx\n",
    "import matplotlib.pyplot as plt\n",
    "import matplotlib.cm as cm\n",
    "\n",
    "# Select the metric to represent as edge attributes (choose one: 'support', 'confidence', 'lift')\n",
    "metric_to_display = 'confidence'\n",
    "\n",
    "# Create a directed graph\n",
    "G = nx.DiGraph()\n",
    "\n",
    "# Add edges from association rules\n",
    "for rule in rules.iterrows():\n",
    "    antecedent = ', '.join(rule[1]['antecedents'])\n",
    "    consequent = ', '.join(rule[1]['consequents'])\n",
    "    edge_attr = rule[1][metric_to_display]\n",
    "    G.add_edge(antecedent, consequent, **{metric_to_display: edge_attr})\n",
    "\n",
    "# Extract the edge attributes based on the selected metric\n",
    "edge_attrs = nx.get_edge_attributes(G, metric_to_display)\n",
    "edge_values = list(edge_attrs.values())\n",
    "\n",
    "# Normalize the edge values for visualization\n",
    "norm_edge_values = [(value - min(edge_values)) / (max(edge_values) - min(edge_values)) for value in edge_values]\n",
    "\n",
    "# Create a dummy mappable for colorbar\n",
    "sm = cm.ScalarMappable(cmap='viridis')\n",
    "sm.set_array([])\n",
    "\n",
    "# Draw the network graph with edges colored based on the selected metric\n",
    "pos = nx.spring_layout(G, k=0.5)\n",
    "plt.figure(figsize=(12, 8))\n",
    "nx.draw_networkx(G, pos, with_labels=True, node_size=800, node_color='lightblue',\n",
    "                 edge_color=norm_edge_values, cmap='viridis', font_size=10, font_weight='bold', width=2)\n",
    "plt.title(f'Association Rule Network Graph ({metric_to_display.capitalize()})')\n",
    "plt.colorbar(sm, label=metric_to_display.capitalize())\n",
    "plt.show()"
   ]
  },
  {
   "cell_type": "code",
   "execution_count": null,
   "metadata": {},
   "outputs": [],
   "source": [
    "import seaborn as sns\n",
    "\n",
    "# Create a pivot table with support as values\n",
    "pivot_table = rules.pivot_table(values='support', index='antecedents', columns='consequents', fill_value=0)\n",
    "\n",
    "# Generate the heatmap\n",
    "plt.figure(figsize=(10, 8))\n",
    "sns.heatmap(pivot_table, annot=True, cmap='Blues', fmt=\".2f\", linewidths=0.5)\n",
    "plt.title('Association Rule Heatmap')\n",
    "plt.xlabel('Consequents')\n",
    "plt.ylabel('Antecedents')\n",
    "plt.show()"
   ]
  }
 ],
 "metadata": {
  "kernelspec": {
   "display_name": "base",
   "language": "python",
   "name": "python3"
  },
  "language_info": {
   "name": "python",
   "version": "3.9.13"
  },
  "orig_nbformat": 4
 },
 "nbformat": 4,
 "nbformat_minor": 2
}
